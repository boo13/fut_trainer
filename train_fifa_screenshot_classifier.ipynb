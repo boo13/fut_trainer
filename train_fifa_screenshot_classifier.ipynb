{
 "cells": [
  {
   "cell_type": "markdown",
   "metadata": {},
   "outputs": [],
   "source": [
    "# Fifa Screenshot Classifier\n",
    "---"
   ]
  },
  {
   "cell_type": "markdown",
   "metadata": {},
   "outputs": [],
   "source": [
    "Model input is a resized screenshot to 224x224"
   ]
  },
  {
   "cell_type": "markdown",
   "metadata": {
    "colab_type": "text",
    "id": "hoQQiZDB6URn"
   },
   "outputs": [],
   "source": [
    "---\n",
    "## Setup"
   ]
  },
  {
   "cell_type": "code",
   "execution_count": null,
   "metadata": {},
   "outputs": [],
   "source": []
  },
  {
   "cell_type": "code",
   "execution_count": 29,
   "metadata": {},
   "outputs": [],
   "source": [
    "from datetime import datetime\n",
    "date_string = \"{:%Y.%m.%d}\".format(datetime.now())"
   ]
  },
  {
   "cell_type": "markdown",
   "metadata": {},
   "outputs": [],
   "source": [
    "### Imports"
   ]
  },
  {
   "cell_type": "code",
   "execution_count": 1,
   "metadata": {},
   "outputs": [
    {
     "name": "stdout",
     "output_type": "stream",
     "text": "Tensorflow Version: 2.0.0\n"
    }
   ],
   "source": [
    "import tensorflow as tf\n",
    "AUTOTUNE = tf.data.experimental.AUTOTUNE\n",
    "print(f\"Tensorflow Version: {tf.__version__}\")\n",
    "from tensorflow.keras.applications import ResNet50\n",
    "\n",
    "# Built-ins\n",
    "import os\n",
    "from pathlib import Path\n",
    "\n",
    "# Pip installs\n",
    "import IPython.display as display\n",
    "from PIL import Image\n",
    "import numpy as np\n",
    "import matplotlib.pyplot as plt\n",
    "from loguru import logger\n",
    "\n",
    "# Import local config\n",
    "from fifa_screenshot_classifier import config\n",
    "from fifa_screenshot_classifier.model import FifaClassifierNet"
   ]
  },
  {
   "cell_type": "code",
   "execution_count": null,
   "metadata": {},
   "outputs": [],
   "source": [
    "vgg16_model = tf.keras.applications.vgg16.VGG16(weights='imagenet', include_top=False, input_tensor=Input(shape=(224,224,3)))"
   ]
  },
  {
   "cell_type": "markdown",
   "execution_count": null,
   "metadata": {},
   "outputs": [],
   "source": [
    "### Flags"
   ]
  },
  {
   "cell_type": "code",
   "execution_count": 2,
   "metadata": {},
   "outputs": [],
   "source": [
    "VERBOSE = False"
   ]
  },
  {
   "cell_type": "code",
   "execution_count": null,
   "metadata": {},
   "outputs": [],
   "source": [
    "if VERBOSE:\n",
    "    config.print_config_report()"
   ]
  },
  {
   "cell_type": "markdown",
   "metadata": {},
   "outputs": [],
   "source": [
    "---\n",
    "## Helper Functions"
   ]
  },
  {
   "cell_type": "code",
   "execution_count": 3,
   "metadata": {},
   "outputs": [],
   "source": [
    "def show_batch(image_batch, label_batch):\n",
    "  plt.figure(figsize=(10,10))\n",
    "  \n",
    "  for n in range(25):\n",
    "      ax = plt.subplot(5,5,n+1)\n",
    "      plt.imshow(image_batch[n])\n",
    "      plt.title(config.CLASS_NAMES[label_batch[n]==1][0].title())\n",
    "      plt.axis('off')"
   ]
  },
  {
   "cell_type": "code",
   "execution_count": 4,
   "metadata": {},
   "outputs": [],
   "source": [
    "def get_label(file_path):\n",
    "  # convert the path to a list of path components\n",
    "  parts = tf.strings.split(file_path, os.path.sep)\n",
    "  \n",
    "  # The second to last is the class-directory\n",
    "  return parts[-2] == config.CLASS_NAMES"
   ]
  },
  {
   "cell_type": "code",
   "execution_count": 5,
   "metadata": {},
   "outputs": [],
   "source": [
    "def decode_img(img):\n",
    "  # convert the compressed string to a 3D uint8 tensor\n",
    "  img = tf.image.decode_jpeg(img, channels=3)\n",
    "\n",
    "  # Use `convert_image_dtype` to convert to floats in the [0,1] range.\n",
    "  img = tf.image.convert_image_dtype(img, tf.float32)\n",
    "\n",
    "  # resize the image to the desired size.\n",
    "  return tf.image.resize(img, [config.IMG_WIDTH, config.IMG_HEIGHT])"
   ]
  },
  {
   "cell_type": "code",
   "execution_count": 6,
   "metadata": {},
   "outputs": [],
   "source": [
    "def process_path(file_path):\n",
    "  label = get_label(file_path)\n",
    "\n",
    "  # load the raw data from the file as a string\n",
    "  img = tf.io.read_file(file_path)\n",
    "  img = decode_img(img)\n",
    "  \n",
    "  return img, label"
   ]
  },
  {
   "cell_type": "code",
   "execution_count": 7,
   "metadata": {},
   "outputs": [],
   "source": [
    "def prepare_for_training(ds, cache=True, shuffle_buffer_size=1000):\n",
    "  # This is a small dataset, only load it once, and keep it in memory.\n",
    "  # use `.cache(filename)` to cache preprocessing work for datasets that don't\n",
    "  # fit in memory.\n",
    "  if cache:\n",
    "    if isinstance(cache, str):\n",
    "      ds = ds.cache(cache)\n",
    "    else:\n",
    "      ds = ds.cache()\n",
    "\n",
    "  ds = ds.shuffle(buffer_size=shuffle_buffer_size)\n",
    "\n",
    "  # Repeat forever\n",
    "  ds = ds.repeat()\n",
    "\n",
    "  ds = ds.batch(config.BATCH_SIZE)\n",
    "\n",
    "  # `prefetch` lets the dataset fetch batches in the background while the model\n",
    "  # is training.\n",
    "  ds = ds.prefetch(buffer_size=AUTOTUNE)\n",
    "\n",
    "  return ds"
   ]
  },
  {
   "cell_type": "markdown",
   "metadata": {
    "colab_type": "text",
    "id": "AxS1cLzM8mEp"
   },
   "outputs": [],
   "source": [
    "## Load using `tf.data`"
   ]
  },
  {
   "cell_type": "markdown",
   "metadata": {
    "colab_type": "text",
    "id": "Ylj9fgkamgWZ"
   },
   "outputs": [],
   "source": [
    "The above `keras.preprocessing` method is convienient, but has two downsides: \n",
    "\n",
    "1. It's slow. See the performance section below.\n",
    "1. It lacks fine-grained control.\n",
    "1. It is not well integrated with the rest of TensorFlow.\n",
    "\n",
    "To load the files as a `tf.data.Dataset` first create a dataset of the file paths:"
   ]
  },
  {
   "cell_type": "code",
   "execution_count": 8,
   "metadata": {},
   "outputs": [],
   "source": [
    "list_train_ds = tf.data.Dataset.list_files(str(config.TRAIN_DIR/'*/*.jpg'))\n",
    "list_test_ds = tf.data.Dataset.list_files(str(config.TEST_DIR/'*/*.jpg'))"
   ]
  },
  {
   "cell_type": "code",
   "execution_count": 9,
   "metadata": {},
   "outputs": [],
   "source": [
    "if VERBOSE:\n",
    "  # Inspect the train and test dataset list\n",
    "  print(\"-\"*30, \" Training\", \"-\"*30)\n",
    "  for f in list_train_ds.take(5):\n",
    "    print(f.numpy())\n",
    "\n",
    "  print(\"-\"*30, \" Test Set\", \"-\"*30)\n",
    "  for f in list_test_ds.take(5):\n",
    "    print(f.numpy())"
   ]
  },
  {
   "cell_type": "markdown",
   "metadata": {
    "colab_type": "text",
    "id": "91CPfUUJ_8SZ"
   },
   "outputs": [],
   "source": [
    "Write a short pure-tensorflow function that converts a file paths to an (image_data, label) pair:"
   ]
  },
  {
   "cell_type": "markdown",
   "metadata": {
    "colab_type": "text",
    "id": "S9a5GpsUOBx8"
   },
   "outputs": [],
   "source": [
    "Use `Dataset.map` to create a dataset of `image, label` pairs:"
   ]
  },
  {
   "cell_type": "code",
   "execution_count": 10,
   "metadata": {},
   "outputs": [],
   "source": [
    "# Set `num_parallel_calls` so multiple images are loaded/processed in parallel.\n",
    "labeled_train_ds = list_train_ds.map(process_path, num_parallel_calls=AUTOTUNE)\n",
    "\n",
    "labeled_test_ds = list_test_ds.map(process_path, num_parallel_calls=AUTOTUNE)"
   ]
  },
  {
   "cell_type": "code",
   "execution_count": 11,
   "metadata": {},
   "outputs": [],
   "source": [
    "if VERBOSE:\n",
    "  for image, label in labeled_train_ds.take(3):\n",
    "    print(\"Image shape: \", image.numpy().shape)\n",
    "    print(\"Label: \", label.numpy())"
   ]
  },
  {
   "cell_type": "markdown",
   "metadata": {
    "colab_type": "text",
    "id": "vYGCgJuR_9Qp"
   },
   "outputs": [],
   "source": [
    "### Basic methods for training"
   ]
  },
  {
   "cell_type": "markdown",
   "metadata": {
    "colab_type": "text",
    "id": "wwZavzgsIytz"
   },
   "outputs": [],
   "source": [
    "To train a model with this dataset you will want the data:\n",
    "\n",
    "* To be well shuffled.\n",
    "* To be batched.\n",
    "* Batches to be available as soon as possible.\n",
    "\n",
    "These features can be easily added using the `tf.data` api."
   ]
  },
  {
   "cell_type": "code",
   "execution_count": 39,
   "metadata": {},
   "outputs": [],
   "source": [
    "train_ds = prepare_for_training(labeled_train_ds)\n",
    "test_ds = prepare_for_training(labeled_test_ds)\n",
    "\n",
    "image_batch, label_batch = next(iter(train_ds))"
   ]
  },
  {
   "cell_type": "code",
   "execution_count": null,
   "metadata": {},
   "outputs": [],
   "source": []
  },
  {
   "cell_type": "markdown",
   "metadata": {},
   "outputs": [],
   "source": [
    "---\n",
    "## Inspect the Datset"
   ]
  },
  {
   "cell_type": "code",
   "execution_count": 13,
   "metadata": {},
   "outputs": [],
   "source": [
    "if VERBOSE:\n",
    "    show_batch(image_batch.numpy(), label_batch.numpy())"
   ]
  },
  {
   "cell_type": "markdown",
   "metadata": {},
   "outputs": [],
   "source": [
    "---\n",
    "## Build the Model"
   ]
  },
  {
   "cell_type": "code",
   "execution_count": 14,
   "metadata": {},
   "outputs": [],
   "source": [
    "from tensorflow.keras.layers import BatchNormalization\n",
    "from tensorflow.keras.optimizers import SGD"
   ]
  },
  {
   "cell_type": "code",
   "execution_count": 15,
   "metadata": {},
   "outputs": [
    {
     "name": "stdout",
     "output_type": "stream",
     "text": "[INFO] compiling model...\n"
    }
   ],
   "source": [
    "# initialize the optimizer and model\n",
    "print(\"[INFO] compiling model...\")\n",
    "opt = SGD(lr=config.INIT_LR, \n",
    "\tmomentum=0.9,\n",
    "\tdecay=config.INIT_LR / config.EPOCHS)\n",
    "\n",
    "model = FifaClassifierNet.build(width=config.IMG_WIDTH, height=config.IMG_HEIGHT, depth=3,\n",
    "\tclasses=len(config.CLASS_NAMES))\n",
    "\n",
    "model.compile(loss=\"categorical_crossentropy\", optimizer=opt,\n",
    "\tmetrics=[\"accuracy\"])"
   ]
  },
  {
   "cell_type": "code",
   "execution_count": 16,
   "metadata": {},
   "outputs": [],
   "source": [
    "if VERBOSE:\n",
    "    model.summary()"
   ]
  },
  {
   "cell_type": "code",
   "metadata": {},
   "outputs": [],
   "source": [
    "# # Include the epoch in the file name (uses `str.format`)\n",
    "# checkpoint_path = \"training_2/cp-{epoch:04d}.ckpt\"\n",
    "# checkpoint_dir = os.path.dirname(checkpoint_path)\n",
    "\n",
    "\n",
    "# # Create a new model instance\n",
    "# model = create_model()\n",
    "\n",
    "# # Save the weights using the `checkpoint_path` format\n",
    "# model.save_weights(checkpoint_path.format(epoch=0))\n",
    "\n",
    "# # Train the model with the new callback\n",
    "# model.fit(train_images, \n",
    "#               train_labels,\n",
    "#               epochs=50, \n",
    "#               callbacks=[cp_callback],\n",
    "#               validation_data=(test_images,test_labels),\n",
    "#               verbose=0)\n"
   ]
  },
  {
   "cell_type": "markdown",
   "metadata": {},
   "outputs": [],
   "source": [
    "---\n",
    "## Train the Model"
   ]
  },
  {
   "cell_type": "code",
   "execution_count": 21,
   "metadata": {},
   "outputs": [],
   "source": [
    "checkpoint_path = \"checkpints\"\n",
    "\n",
    "# Create a callback that saves the model's weights every 5 epochs\n",
    "cp_callback = tf.keras.callbacks.ModelCheckpoint(\n",
    "    filepath=checkpoint_path, \n",
    "    verbose=1, \n",
    "    save_weights_only=True,\n",
    "    save_freq=5)"
   ]
  },
  {
   "cell_type": "code",
   "execution_count": 23,
   "metadata": {},
   "outputs": [
    {
     "name": "stdout",
     "output_type": "stream",
     "text": "0013: saving model to checkpints\n 2/12 [====>.........................] - ETA: 1:02 - loss: 0.0345 - accuracy: 0.9844\nEpoch 00013: saving model to checkpints\n 3/12 [======>.......................] - ETA: 55s - loss: 0.0320 - accuracy: 0.9896\nEpoch 00013: saving model to checkpints\n 4/12 [=========>....................] - ETA: 50s - loss: 0.0385 - accuracy: 0.9844\nEpoch 00013: saving model to checkpints\n 5/12 [===========>..................] - ETA: 44s - loss: 0.0356 - accuracy: 0.9875\nEpoch 00013: saving model to checkpints\n 6/12 [==============>...............] - ETA: 41s - loss: 0.0310 - accuracy: 0.9896\nEpoch 00013: saving model to checkpints\n 7/12 [================>.............] - ETA: 34s - loss: 0.0281 - accuracy: 0.9911\nEpoch 00013: saving model to checkpints\n 8/12 [===================>..........] - ETA: 27s - loss: 0.0353 - accuracy: 0.9883\nEpoch 00013: saving model to checkpints\n 9/12 [=====================>........] - ETA: 20s - loss: 0.0383 - accuracy: 0.9861\nEpoch 00013: saving model to checkpints\n10/12 [========================>.....] - ETA: 13s - loss: 0.0466 - accuracy: 0.9781\nEpoch 00013: saving model to checkpints\n11/12 [==========================>...] - ETA: 6s - loss: 0.0449 - accuracy: 0.9801\nEpoch 00013: saving model to checkpints\n12/12 [==============================] - 85s 7s/step - loss: 0.0460 - accuracy: 0.9792 - val_loss: 0.6501 - val_accuracy: 0.8438\nEpoch 14/25\n\nEpoch 00014: saving model to checkpints\n 1/12 [=>............................] - ETA: 1:11 - loss: 0.0224 - accuracy: 1.0000\nEpoch 00014: saving model to checkpints\n 2/12 [====>.........................] - ETA: 1:08 - loss: 0.0203 - accuracy: 1.0000\nEpoch 00014: saving model to checkpints\n 3/12 [======>.......................] - ETA: 1:04 - loss: 0.0226 - accuracy: 1.0000\nEpoch 00014: saving model to checkpints\n 4/12 [=========>....................] - ETA: 59s - loss: 0.0274 - accuracy: 1.0000\nEpoch 00014: saving model to checkpints\n 5/12 [===========>..................] - ETA: 51s - loss: 0.0567 - accuracy: 0.9875\nEpoch 00014: saving model to checkpints\n 6/12 [==============>...............] - ETA: 42s - loss: 0.0633 - accuracy: 0.9844\nEpoch 00014: saving model to checkpints\n 7/12 [================>.............] - ETA: 34s - loss: 0.0545 - accuracy: 0.9866\nEpoch 00014: saving model to checkpints\n 8/12 [===================>..........] - ETA: 27s - loss: 0.0492 - accuracy: 0.9883\nEpoch 00014: saving model to checkpints\n 9/12 [=====================>........] - ETA: 20s - loss: 0.0480 - accuracy: 0.9896\nEpoch 00014: saving model to checkpints\n10/12 [========================>.....] - ETA: 13s - loss: 0.0480 - accuracy: 0.9875\nEpoch 00014: saving model to checkpints\n11/12 [==========================>...] - ETA: 6s - loss: 0.0514 - accuracy: 0.9830\nEpoch 00014: saving model to checkpints\n12/12 [==============================] - 85s 7s/step - loss: 0.0528 - accuracy: 0.9844 - val_loss: 0.6240 - val_accuracy: 0.8229\nEpoch 15/25\n\nEpoch 00015: saving model to checkpints\n 1/12 [=>............................] - ETA: 1:10 - loss: 0.0359 - accuracy: 1.0000\nEpoch 00015: saving model to checkpints\n 2/12 [====>.........................] - ETA: 1:03 - loss: 0.0229 - accuracy: 1.0000\nEpoch 00015: saving model to checkpints\n 3/12 [======>.......................] - ETA: 56s - loss: 0.0386 - accuracy: 1.0000\nEpoch 00015: saving model to checkpints\n 4/12 [=========>....................] - ETA: 49s - loss: 0.0617 - accuracy: 0.9922\nEpoch 00015: saving model to checkpints\n 5/12 [===========>..................] - ETA: 43s - loss: 0.0510 - accuracy: 0.9937\nEpoch 00015: saving model to checkpints\n 6/12 [==============>...............] - ETA: 37s - loss: 0.0505 - accuracy: 0.9896\nEpoch 00015: saving model to checkpints\n 7/12 [================>.............] - ETA: 31s - loss: 0.0481 - accuracy: 0.9911\nEpoch 00015: saving model to checkpints\n 8/12 [===================>..........] - ETA: 25s - loss: 0.0425 - accuracy: 0.9922\nEpoch 00015: saving model to checkpints\n 9/12 [=====================>........] - ETA: 18s - loss: 0.0420 - accuracy: 0.9931\nEpoch 00015: saving model to checkpints\n10/12 [========================>.....] - ETA: 12s - loss: 0.0400 - accuracy: 0.9937\nEpoch 00015: saving model to checkpints\n11/12 [==========================>...] - ETA: 6s - loss: 0.0375 - accuracy: 0.9943\nEpoch 00015: saving model to checkpints\n12/12 [==============================] - 82s 7s/step - loss: 0.0385 - accuracy: 0.9948 - val_loss: 0.7292 - val_accuracy: 0.8229\nEpoch 16/25\n\nEpoch 00016: saving model to checkpints\n 1/12 [=>............................] - ETA: 1:09 - loss: 0.0683 - accuracy: 0.9688\nEpoch 00016: saving model to checkpints\n 2/12 [====>.........................] - ETA: 1:01 - loss: 0.0390 - accuracy: 0.9844\nEpoch 00016: saving model to checkpints\n 3/12 [======>.......................] - ETA: 1:05 - loss: 0.0392 - accuracy: 0.9896\nEpoch 00016: saving model to checkpints\n 4/12 [=========>....................] - ETA: 1:03 - loss: 0.0567 - accuracy: 0.9766\nEpoch 00016: saving model to checkpints\n 5/12 [===========>..................] - ETA: 52s - loss: 0.0575 - accuracy: 0.9812\nEpoch 00016: saving model to checkpints\n 6/12 [==============>...............] - ETA: 43s - loss: 0.0545 - accuracy: 0.9844\nEpoch 00016: saving model to checkpints\n 7/12 [================>.............] - ETA: 35s - loss: 0.0550 - accuracy: 0.9821\nEpoch 00016: saving model to checkpints\n 8/12 [===================>..........] - ETA: 28s - loss: 0.0528 - accuracy: 0.9844\nEpoch 00016: saving model to checkpints\n 9/12 [=====================>........] - ETA: 20s - loss: 0.0604 - accuracy: 0.9826\nEpoch 00016: saving model to checkpints\n10/12 [========================>.....] - ETA: 13s - loss: 0.0569 - accuracy: 0.9844\nEpoch 00016: saving model to checkpints\n11/12 [==========================>...] - ETA: 6s - loss: 0.0547 - accuracy: 0.9858\nEpoch 00016: saving model to checkpints\n12/12 [==============================] - 88s 7s/step - loss: 0.0524 - accuracy: 0.9870 - val_loss: 0.5959 - val_accuracy: 0.8438\nEpoch 17/25\n\nEpoch 00017: saving model to checkpints\n 1/12 [=>............................] - ETA: 1:12 - loss: 0.0314 - accuracy: 1.0000\nEpoch 00017: saving model to checkpints\n 2/12 [====>.........................] - ETA: 1:04 - loss: 0.0756 - accuracy: 0.9844\nEpoch 00017: saving model to checkpints\n 3/12 [======>.......................] - ETA: 56s - loss: 0.0551 - accuracy: 0.9896\nEpoch 00017: saving model to checkpints\n 4/12 [=========>....................] - ETA: 50s - loss: 0.0507 - accuracy: 0.9922\nEpoch 00017: saving model to checkpints\n 5/12 [===========>..................] - ETA: 44s - loss: 0.0578 - accuracy: 0.9875\nEpoch 00017: saving model to checkpints\n 6/12 [==============>...............] - ETA: 37s - loss: 0.0505 - accuracy: 0.9896\nEpoch 00017: saving model to checkpints\n 7/12 [================>.............] - ETA: 31s - loss: 0.0514 - accuracy: 0.9911\nEpoch 00017: saving model to checkpints\n 8/12 [===================>..........] - ETA: 25s - loss: 0.0468 - accuracy: 0.9922\nEpoch 00017: saving model to checkpints\n 9/12 [=====================>........] - ETA: 18s - loss: 0.0454 - accuracy: 0.9931\nEpoch 00017: saving model to checkpints\n10/12 [========================>.....] - ETA: 12s - loss: 0.0442 - accuracy: 0.9937\nEpoch 00017: saving model to checkpints\n11/12 [==========================>...] - ETA: 6s - loss: 0.0426 - accuracy: 0.9943\nEpoch 00017: saving model to checkpints\n12/12 [==============================] - 80s 7s/step - loss: 0.0410 - accuracy: 0.9948 - val_loss: 0.6949 - val_accuracy: 0.8333\nEpoch 18/25\n\nEpoch 00018: saving model to checkpints\n 1/12 [=>............................] - ETA: 1:07 - loss: 0.0377 - accuracy: 0.9688\nEpoch 00018: saving model to checkpints\n 2/12 [====>.........................] - ETA: 1:00 - loss: 0.0374 - accuracy: 0.9844\nEpoch 00018: saving model to checkpints\n 3/12 [======>.......................] - ETA: 55s - loss: 0.0863 - accuracy: 0.9792\nEpoch 00018: saving model to checkpints\n 4/12 [=========>....................] - ETA: 48s - loss: 0.0779 - accuracy: 0.9844\nEpoch 00018: saving model to checkpints\n 5/12 [===========>..................] - ETA: 42s - loss: 0.0647 - accuracy: 0.9875\nEpoch 00018: saving model to checkpints\n 6/12 [==============>...............] - ETA: 36s - loss: 0.0575 - accuracy: 0.9896\nEpoch 00018: saving model to checkpints\n 7/12 [================>.............] - ETA: 30s - loss: 0.0640 - accuracy: 0.9866\nEpoch 00018: saving model to checkpints\n 8/12 [===================>..........] - ETA: 24s - loss: 0.0563 - accuracy: 0.9883\nEpoch 00018: saving model to checkpints\n 9/12 [=====================>........] - ETA: 18s - loss: 0.0671 - accuracy: 0.9861\nEpoch 00018: saving model to checkpints\n10/12 [========================>.....] - ETA: 12s - loss: 0.0626 - accuracy: 0.9875\nEpoch 00018: saving model to checkpints\n11/12 [==========================>...] - ETA: 6s - loss: 0.0586 - accuracy: 0.9886\nEpoch 00018: saving model to checkpints\n12/12 [==============================] - 79s 7s/step - loss: 0.0668 - accuracy: 0.9844 - val_loss: 0.6864 - val_accuracy: 0.8438\nEpoch 19/25\n\nEpoch 00019: saving model to checkpints\n 1/12 [=>............................] - ETA: 1:09 - loss: 0.0521 - accuracy: 0.9688\nEpoch 00019: saving model to checkpints\n 2/12 [====>.........................] - ETA: 1:02 - loss: 0.0497 - accuracy: 0.9844\nEpoch 00019: saving model to checkpints\n 3/12 [======>.......................] - ETA: 55s - loss: 0.0387 - accuracy: 0.9896\nEpoch 00019: saving model to checkpints\n 4/12 [=========>....................] - ETA: 49s - loss: 0.0500 - accuracy: 0.9844\nEpoch 00019: saving model to checkpints\n 5/12 [===========>..................] - ETA: 43s - loss: 0.0414 - accuracy: 0.9875\nEpoch 00019: saving model to checkpints\n 6/12 [==============>...............] - ETA: 37s - loss: 0.0447 - accuracy: 0.9896\nEpoch 00019: saving model to checkpints\n 7/12 [================>.............] - ETA: 31s - loss: 0.0616 - accuracy: 0.9866\nEpoch 00019: saving model to checkpints\n 8/12 [===================>..........] - ETA: 24s - loss: 0.0565 - accuracy: 0.9883\nEpoch 00019: saving model to checkpints\n 9/12 [=====================>........] - ETA: 18s - loss: 0.0584 - accuracy: 0.9861\nEpoch 00019: saving model to checkpints\n10/12 [========================>.....] - ETA: 12s - loss: 0.0636 - accuracy: 0.9844\nEpoch 00019: saving model to checkpints\n11/12 [==========================>...] - ETA: 6s - loss: 0.0625 - accuracy: 0.9858\nEpoch 00019: saving model to checkpints\n12/12 [==============================] - 79s 7s/step - loss: 0.0596 - accuracy: 0.9870 - val_loss: 0.5969 - val_accuracy: 0.8854\nEpoch 20/25\n\nEpoch 00020: saving model to checkpints\n 1/12 [=>............................] - ETA: 1:06 - loss: 0.0838 - accuracy: 1.0000\nEpoch 00020: saving model to checkpints\n 2/12 [====>.........................] - ETA: 1:03 - loss: 0.0654 - accuracy: 0.9844\nEpoch 00020: saving model to checkpints\n 3/12 [======>.......................] - ETA: 56s - loss: 0.0841 - accuracy: 0.9792\nEpoch 00020: saving model to checkpints\n 4/12 [=========>....................] - ETA: 50s - loss: 0.0704 - accuracy: 0.9844\nEpoch 00020: saving model to checkpints\n 5/12 [===========>..................] - ETA: 44s - loss: 0.0625 - accuracy: 0.9875\nEpoch 00020: saving model to checkpints\n 6/12 [==============>...............] - ETA: 37s - loss: 0.0805 - accuracy: 0.9844\nEpoch 00020: saving model to checkpints\n 7/12 [================>.............] - ETA: 31s - loss: 0.0724 - accuracy: 0.9866\nEpoch 00020: saving model to checkpints\n 8/12 [===================>..........] - ETA: 25s - loss: 0.0734 - accuracy: 0.9844\nEpoch 00020: saving model to checkpints\n 9/12 [=====================>........] - ETA: 18s - loss: 0.0696 - accuracy: 0.9861\nEpoch 00020: saving model to checkpints\n10/12 [========================>.....] - ETA: 12s - loss: 0.0677 - accuracy: 0.9844\nEpoch 00020: saving model to checkpints\n11/12 [==========================>...] - ETA: 6s - loss: 0.0696 - accuracy: 0.9830\nEpoch 00020: saving model to checkpints\n12/12 [==============================] - 81s 7s/step - loss: 0.0688 - accuracy: 0.9818 - val_loss: 0.6947 - val_accuracy: 0.8646\nEpoch 21/25\n\nEpoch 00021: saving model to checkpints\n 1/12 [=>............................] - ETA: 1:09 - loss: 0.0337 - accuracy: 0.9688\nEpoch 00021: saving model to checkpints\n 2/12 [====>.........................] - ETA: 1:01 - loss: 0.0322 - accuracy: 0.9844\nEpoch 00021: saving model to checkpints\n 3/12 [======>.......................] - ETA: 55s - loss: 0.0285 - accuracy: 0.9896\nEpoch 00021: saving model to checkpints\n 4/12 [=========>....................] - ETA: 50s - loss: 0.0492 - accuracy: 0.9766\nEpoch 00021: saving model to checkpints\n 5/12 [===========>..................] - ETA: 44s - loss: 0.0448 - accuracy: 0.9812\nEpoch 00021: saving model to checkpints\n 6/12 [==============>...............] - ETA: 37s - loss: 0.0397 - accuracy: 0.9844\nEpoch 00021: saving model to checkpints\n 7/12 [================>.............] - ETA: 31s - loss: 0.0403 - accuracy: 0.9821\nEpoch 00021: saving model to checkpints\n 8/12 [===================>..........] - ETA: 24s - loss: 0.0404 - accuracy: 0.9844\nEpoch 00021: saving model to checkpints\n 9/12 [=====================>........] - ETA: 18s - loss: 0.0363 - accuracy: 0.9861\nEpoch 00021: saving model to checkpints\n10/12 [========================>.....] - ETA: 12s - loss: 0.0353 - accuracy: 0.9875\nEpoch 00021: saving model to checkpints\n11/12 [==========================>...] - ETA: 6s - loss: 0.0327 - accuracy: 0.9886\nEpoch 00021: saving model to checkpints\n12/12 [==============================] - 80s 7s/step - loss: 0.0305 - accuracy: 0.9896 - val_loss: 0.7643 - val_accuracy: 0.8542\nEpoch 22/25\n\nEpoch 00022: saving model to checkpints\n 1/12 [=>............................] - ETA: 1:14 - loss: 0.2226 - accuracy: 0.9375\nEpoch 00022: saving model to checkpints\n 2/12 [====>.........................] - ETA: 1:05 - loss: 0.1389 - accuracy: 0.9531\nEpoch 00022: saving model to checkpints\n 3/12 [======>.......................] - ETA: 57s - loss: 0.1311 - accuracy: 0.9583\nEpoch 00022: saving model to checkpints\n 4/12 [=========>....................] - ETA: 50s - loss: 0.1002 - accuracy: 0.9688\nEpoch 00022: saving model to checkpints\n 5/12 [===========>..................] - ETA: 43s - loss: 0.0810 - accuracy: 0.9750\nEpoch 00022: saving model to checkpints\n 6/12 [==============>...............] - ETA: 38s - loss: 0.0758 - accuracy: 0.9740\nEpoch 00022: saving model to checkpints\n 7/12 [================>.............] - ETA: 32s - loss: 0.0664 - accuracy: 0.9777\nEpoch 00022: saving model to checkpints\n 8/12 [===================>..........] - ETA: 25s - loss: 0.0670 - accuracy: 0.9766\nEpoch 00022: saving model to checkpints\n 9/12 [=====================>........] - ETA: 19s - loss: 0.0627 - accuracy: 0.9757\nEpoch 00022: saving model to checkpints\n10/12 [========================>.....] - ETA: 12s - loss: 0.0581 - accuracy: 0.9781\nEpoch 00022: saving model to checkpints\n11/12 [==========================>...] - ETA: 6s - loss: 0.0548 - accuracy: 0.9801\nEpoch 00022: saving model to checkpints\n12/12 [==============================] - 82s 7s/step - loss: 0.0505 - accuracy: 0.9818 - val_loss: 0.8730 - val_accuracy: 0.8542\nEpoch 23/25\n\nEpoch 00023: saving model to checkpints\n 1/12 [=>............................] - ETA: 1:07 - loss: 0.0060 - accuracy: 1.0000\nEpoch 00023: saving model to checkpints\n 2/12 [====>.........................] - ETA: 1:01 - loss: 0.0373 - accuracy: 0.9844\nEpoch 00023: saving model to checkpints\n 3/12 [======>.......................] - ETA: 56s - loss: 0.0304 - accuracy: 0.9896\nEpoch 00023: saving model to checkpints\n 4/12 [=========>....................] - ETA: 51s - loss: 0.0328 - accuracy: 0.9922\nEpoch 00023: saving model to checkpints\n 5/12 [===========>..................] - ETA: 44s - loss: 0.0272 - accuracy: 0.9937\nEpoch 00023: saving model to checkpints\n 6/12 [==============>...............] - ETA: 38s - loss: 0.0571 - accuracy: 0.9896\nEpoch 00023: saving model to checkpints\n 7/12 [================>.............] - ETA: 31s - loss: 0.0582 - accuracy: 0.9866\nEpoch 00023: saving model to checkpints\n 8/12 [===================>..........] - ETA: 25s - loss: 0.0548 - accuracy: 0.9883\nEpoch 00023: saving model to checkpints\n 9/12 [=====================>........] - ETA: 18s - loss: 0.0600 - accuracy: 0.9861\nEpoch 00023: saving model to checkpints\n10/12 [========================>.....] - ETA: 12s - loss: 0.0547 - accuracy: 0.9875\nEpoch 00023: saving model to checkpints\n11/12 [==========================>...] - ETA: 6s - loss: 0.0529 - accuracy: 0.9886\nEpoch 00023: saving model to checkpints\n12/12 [==============================] - 80s 7s/step - loss: 0.0499 - accuracy: 0.9896 - val_loss: 0.7883 - val_accuracy: 0.8542\nEpoch 24/25\n\nEpoch 00024: saving model to checkpints\n 1/12 [=>............................] - ETA: 1:05 - loss: 0.0075 - accuracy: 1.0000\nEpoch 00024: saving model to checkpints\n 2/12 [====>.........................] - ETA: 1:03 - loss: 0.0273 - accuracy: 0.9844\nEpoch 00024: saving model to checkpints\n 3/12 [======>.......................] - ETA: 57s - loss: 0.0211 - accuracy: 0.9896\nEpoch 00024: saving model to checkpints\n 4/12 [=========>....................] - ETA: 51s - loss: 0.0358 - accuracy: 0.9844\nEpoch 00024: saving model to checkpints\n 5/12 [===========>..................] - ETA: 45s - loss: 0.0395 - accuracy: 0.9875\nEpoch 00024: saving model to checkpints\n 6/12 [==============>...............] - ETA: 38s - loss: 0.0341 - accuracy: 0.9896\nEpoch 00024: saving model to checkpints\n 7/12 [================>.............] - ETA: 31s - loss: 0.0384 - accuracy: 0.9866\nEpoch 00024: saving model to checkpints\n 8/12 [===================>..........] - ETA: 25s - loss: 0.0438 - accuracy: 0.9844\nEpoch 00024: saving model to checkpints\n 9/12 [=====================>........] - ETA: 18s - loss: 0.0441 - accuracy: 0.9861\nEpoch 00024: saving model to checkpints\n10/12 [========================>.....] - ETA: 12s - loss: 0.0428 - accuracy: 0.9875\nEpoch 00024: saving model to checkpints\n11/12 [==========================>...] - ETA: 6s - loss: 0.0416 - accuracy: 0.9886\nEpoch 00024: saving model to checkpints\n12/12 [==============================] - 81s 7s/step - loss: 0.0462 - accuracy: 0.9870 - val_loss: 0.7151 - val_accuracy: 0.8750\nEpoch 25/25\n\nEpoch 00025: saving model to checkpints\n 1/12 [=>............................] - ETA: 1:13 - loss: 0.0253 - accuracy: 1.0000\nEpoch 00025: saving model to checkpints\n 2/12 [====>.........................] - ETA: 1:05 - loss: 0.0315 - accuracy: 0.9844\nEpoch 00025: saving model to checkpints\n 3/12 [======>.......................] - ETA: 57s - loss: 0.0236 - accuracy: 0.9896\nEpoch 00025: saving model to checkpints\n 4/12 [=========>....................] - ETA: 50s - loss: 0.0187 - accuracy: 0.9922\nEpoch 00025: saving model to checkpints\n 5/12 [===========>..................] - ETA: 43s - loss: 0.0384 - accuracy: 0.9875\nEpoch 00025: saving model to checkpints\n 6/12 [==============>...............] - ETA: 37s - loss: 0.0492 - accuracy: 0.9844\nEpoch 00025: saving model to checkpints\n 7/12 [================>.............] - ETA: 31s - loss: 0.0574 - accuracy: 0.9821\nEpoch 00025: saving model to checkpints\n 8/12 [===================>..........] - ETA: 24s - loss: 0.0536 - accuracy: 0.9844\nEpoch 00025: saving model to checkpints\n 9/12 [=====================>........] - ETA: 18s - loss: 0.0659 - accuracy: 0.9826\nEpoch 00025: saving model to checkpints\n10/12 [========================>.....] - ETA: 12s - loss: 0.0670 - accuracy: 0.9812\nEpoch 00025: saving model to checkpints\n11/12 [==========================>...] - ETA: 6s - loss: 0.0631 - accuracy: 0.9830\nEpoch 00025: saving model to checkpints\n12/12 [==============================] - 83s 7s/step - loss: 0.0597 - accuracy: 0.9844 - val_loss: 0.8278 - val_accuracy: 0.8542\n[INFO] Model finished fitting!\n"
    }
   ],
   "source": [
    "# Train the model\n",
    "H = model.fit_generator(\n",
    "    train_ds,\n",
    "    steps_per_epoch=config.TOTAL_NUM_TRAIN_IMAGES // config.BATCH_SIZE,\n",
    "    epochs=config.EPOCHS,\n",
    "    validation_data=test_ds,\n",
    "    validation_steps=config.TOTAL_NUM_TEST_IMAGES // config.BATCH_SIZE,\n",
    "    callbacks=[cp_callback],\n",
    "    verbose=1\n",
    ")\n",
    "print(\"[INFO] Model finished fitting!\")"
   ]
  },
  {
   "cell_type": "markdown",
   "metadata": {},
   "outputs": [],
   "source": [
    "---\n",
    "## Evaluate the network"
   ]
  },
  {
   "cell_type": "code",
   "execution_count": 30,
   "metadata": {},
   "outputs": [
    {
     "name": "stdout",
     "output_type": "stream",
     "text": "[INFO] evaluating network...\n"
    }
   ],
   "source": [
    "# evaluate the network and show a classification report\n",
    "print(\"[INFO] evaluating network...\")\n",
    "predictions = model.predict(test_ds, steps=config.TOTAL_NUM_TRAIN_IMAGES // config.BATCH_SIZE)"
   ]
  },
  {
   "cell_type": "markdown",
   "metadata": {},
   "outputs": [],
   "source": [
    "### Plot the Training Loss & Accuracy"
   ]
  },
  {
   "cell_type": "code",
   "execution_count": 31,
   "metadata": {},
   "outputs": [
    {
     "data": {
      "image/png": "[encoded data removed]",
      "image/svg+xml": "<?xml version=\"1.0\" encoding=\"utf-8\" standalone=\"no\"?>\n<!DOCTYPE svg PUBLIC \"-//W3C//DTD SVG 1.1//EN\"\n  \"http://www.w3.org/Graphics/SVG/1.1/DTD/svg11.dtd\">\n<!-- Created with matplotlib (https://matplotlib.org/) -->\n<svg height=\"281.073625pt\" version=\"1.1\" viewBox=\"0 0 391.543011 281.073625\" width=\"391.543011pt\" xmlns=\"http://www.w3.org/2000/svg\" xmlns:xlink=\"http://www.w3.org/1999/xlink\">\n <defs>\n  <style type=\"text/css\">\n*{stroke-linecap:butt;stroke-linejoin:round;}\n  </style>\n </defs>\n <g id=\"figure_1\">\n  <g id=\"patch_1\">\n   <path d=\"M 0 281.073625 \nL 391.543011 281.073625 \nL 391.543011 0 \nL 0 0 \nz\n\" style=\"fill:#ffffff;\"/>\n  </g>\n  <g id=\"axes_1\">\n   <g id=\"patch_2\">\n    <path d=\"M 45.716875 241.58175 \nL 380.516875 241.58175 \nL 380.516875 24.14175 \nL 45.716875 24.14175 \nz\n\" style=\"fill:#e5e5e5;\"/>\n   </g>\n   <g id=\"matplotlib.axis_1\">\n    <g id=\"xtick_1\">\n     <g id=\"line2d_1\">\n      <path clip-path=\"url(#p5f38295c78)\" d=\"M 60.935057 241.58175 \nL 60.935057 24.14175 \n\" style=\"fill:none;stroke:#ffffff;stroke-linecap:square;stroke-width:0.8;\"/>\n     </g>\n     <g id=\"line2d_2\">\n      <defs>\n       <path d=\"M 0 0 \nL 0 3.5 \n\" id=\"mf77205c0aa\" style=\"stroke:#555555;stroke-width:0.8;\"/>\n      </defs>\n      <g>\n       <use style=\"fill:#555555;stroke:#555555;stroke-width:0.8;\" x=\"60.935057\" xlink:href=\"#mf77205c0aa\" y=\"241.58175\"/>\n      </g>\n     </g>\n     <g id=\"text_1\">\n      <!-- 0 -->\n      <defs>\n       <path d=\"M 31.78125 66.40625 \nQ 24.171875 66.40625 20.328125 58.90625 \nQ 16.5 51.421875 16.5 36.375 \nQ 16.5 21.390625 20.328125 13.890625 \nQ 24.171875 6.390625 31.78125 6.390625 \nQ 39.453125 6.390625 43.28125 13.890625 \nQ 47.125 21.390625 47.125 36.375 \nQ 47.125 51.421875 43.28125 58.90625 \nQ 39.453125 66.40625 31.78125 66.40625 \nz\nM 31.78125 74.21875 \nQ 44.046875 74.21875 50.515625 64.515625 \nQ 56.984375 54.828125 56.984375 36.375 \nQ 56.984375 17.96875 50.515625 8.265625 \nQ 44.046875 -1.421875 31.78125 -1.421875 \nQ 19.53125 -1.421875 13.0625 8.265625 \nQ 6.59375 17.96875 6.59375 36.375 \nQ 6.59375 54.828125 13.0625 64.515625 \nQ 19.53125 74.21875 31.78125 74.21875 \nz\n\" id=\"DejaVuSans-48\"/>\n      </defs>\n      <g style=\"fill:#555555;\" transform=\"translate(57.753807 256.180187)scale(0.1 -0.1)\">\n       <use xlink:href=\"#DejaVuSans-48\"/>\n      </g>\n     </g>\n    </g>\n    <g id=\"xtick_2\">\n     <g id=\"line2d_3\">\n      <path clip-path=\"url(#p5f38295c78)\" d=\"M 124.344148 241.58175 \nL 124.344148 24.14175 \n\" style=\"fill:none;stroke:#ffffff;stroke-linecap:square;stroke-width:0.8;\"/>\n     </g>\n     <g id=\"line2d_4\">\n      <g>\n       <use style=\"fill:#555555;stroke:#555555;stroke-width:0.8;\" x=\"124.344148\" xlink:href=\"#mf77205c0aa\" y=\"241.58175\"/>\n      </g>\n     </g>\n     <g id=\"text_2\">\n      <!-- 5 -->\n      <defs>\n       <path d=\"M 10.796875 72.90625 \nL 49.515625 72.90625 \nL 49.515625 64.59375 \nL 19.828125 64.59375 \nL 19.828125 46.734375 \nQ 21.96875 47.46875 24.109375 47.828125 \nQ 26.265625 48.1875 28.421875 48.1875 \nQ 40.625 48.1875 47.75 41.5 \nQ 54.890625 34.8125 54.890625 23.390625 \nQ 54.890625 11.625 47.5625 5.09375 \nQ 40.234375 -1.421875 26.90625 -1.421875 \nQ 22.3125 -1.421875 17.546875 -0.640625 \nQ 12.796875 0.140625 7.71875 1.703125 \nL 7.71875 11.625 \nQ 12.109375 9.234375 16.796875 8.0625 \nQ 21.484375 6.890625 26.703125 6.890625 \nQ 35.15625 6.890625 40.078125 11.328125 \nQ 45.015625 15.765625 45.015625 23.390625 \nQ 45.015625 31 40.078125 35.4375 \nQ 35.15625 39.890625 26.703125 39.890625 \nQ 22.75 39.890625 18.8125 39.015625 \nQ 14.890625 38.140625 10.796875 36.28125 \nz\n\" id=\"DejaVuSans-53\"/>\n      </defs>\n      <g style=\"fill:#555555;\" transform=\"translate(121.162898 256.180187)scale(0.1 -0.1)\">\n       <use xlink:href=\"#DejaVuSans-53\"/>\n      </g>\n     </g>\n    </g>\n    <g id=\"xtick_3\">\n     <g id=\"line2d_5\">\n      <path clip-path=\"url(#p5f38295c78)\" d=\"M 187.753239 241.58175 \nL 187.753239 24.14175 \n\" style=\"fill:none;stroke:#ffffff;stroke-linecap:square;stroke-width:0.8;\"/>\n     </g>\n     <g id=\"line2d_6\">\n      <g>\n       <use style=\"fill:#555555;stroke:#555555;stroke-width:0.8;\" x=\"187.753239\" xlink:href=\"#mf77205c0aa\" y=\"241.58175\"/>\n      </g>\n     </g>\n     <g id=\"text_3\">\n      <!-- 10 -->\n      <defs>\n       <path d=\"M 12.40625 8.296875 \nL 28.515625 8.296875 \nL 28.515625 63.921875 \nL 10.984375 60.40625 \nL 10.984375 69.390625 \nL 28.421875 72.90625 \nL 38.28125 72.90625 \nL 38.28125 8.296875 \nL 54.390625 8.296875 \nL 54.390625 0 \nL 12.40625 0 \nz\n\" id=\"DejaVuSans-49\"/>\n      </defs>\n      <g style=\"fill:#555555;\" transform=\"translate(181.390739 256.180187)scale(0.1 -0.1)\">\n       <use xlink:href=\"#DejaVuSans-49\"/>\n       <use x=\"63.623047\" xlink:href=\"#DejaVuSans-48\"/>\n      </g>\n     </g>\n    </g>\n    <g id=\"xtick_4\">\n     <g id=\"line2d_7\">\n      <path clip-path=\"url(#p5f38295c78)\" d=\"M 251.16233 241.58175 \nL 251.16233 24.14175 \n\" style=\"fill:none;stroke:#ffffff;stroke-linecap:square;stroke-width:0.8;\"/>\n     </g>\n     <g id=\"line2d_8\">\n      <g>\n       <use style=\"fill:#555555;stroke:#555555;stroke-width:0.8;\" x=\"251.16233\" xlink:href=\"#mf77205c0aa\" y=\"241.58175\"/>\n      </g>\n     </g>\n     <g id=\"text_4\">\n      <!-- 15 -->\n      <g style=\"fill:#555555;\" transform=\"translate(244.79983 256.180187)scale(0.1 -0.1)\">\n       <use xlink:href=\"#DejaVuSans-49\"/>\n       <use x=\"63.623047\" xlink:href=\"#DejaVuSans-53\"/>\n      </g>\n     </g>\n    </g>\n    <g id=\"xtick_5\">\n     <g id=\"line2d_9\">\n      <path clip-path=\"url(#p5f38295c78)\" d=\"M 314.57142 241.58175 \nL 314.57142 24.14175 \n\" style=\"fill:none;stroke:#ffffff;stroke-linecap:square;stroke-width:0.8;\"/>\n     </g>\n     <g id=\"line2d_10\">\n      <g>\n       <use style=\"fill:#555555;stroke:#555555;stroke-width:0.8;\" x=\"314.57142\" xlink:href=\"#mf77205c0aa\" y=\"241.58175\"/>\n      </g>\n     </g>\n     <g id=\"text_5\">\n      <!-- 20 -->\n      <defs>\n       <path d=\"M 19.1875 8.296875 \nL 53.609375 8.296875 \nL 53.609375 0 \nL 7.328125 0 \nL 7.328125 8.296875 \nQ 12.9375 14.109375 22.625 23.890625 \nQ 32.328125 33.6875 34.8125 36.53125 \nQ 39.546875 41.84375 41.421875 45.53125 \nQ 43.3125 49.21875 43.3125 52.78125 \nQ 43.3125 58.59375 39.234375 62.25 \nQ 35.15625 65.921875 28.609375 65.921875 \nQ 23.96875 65.921875 18.8125 64.3125 \nQ 13.671875 62.703125 7.8125 59.421875 \nL 7.8125 69.390625 \nQ 13.765625 71.78125 18.9375 73 \nQ 24.125 74.21875 28.421875 74.21875 \nQ 39.75 74.21875 46.484375 68.546875 \nQ 53.21875 62.890625 53.21875 53.421875 \nQ 53.21875 48.921875 51.53125 44.890625 \nQ 49.859375 40.875 45.40625 35.40625 \nQ 44.1875 33.984375 37.640625 27.21875 \nQ 31.109375 20.453125 19.1875 8.296875 \nz\n\" id=\"DejaVuSans-50\"/>\n      </defs>\n      <g style=\"fill:#555555;\" transform=\"translate(308.20892 256.180187)scale(0.1 -0.1)\">\n       <use xlink:href=\"#DejaVuSans-50\"/>\n       <use x=\"63.623047\" xlink:href=\"#DejaVuSans-48\"/>\n      </g>\n     </g>\n    </g>\n    <g id=\"xtick_6\">\n     <g id=\"line2d_11\">\n      <path clip-path=\"url(#p5f38295c78)\" d=\"M 377.980511 241.58175 \nL 377.980511 24.14175 \n\" style=\"fill:none;stroke:#ffffff;stroke-linecap:square;stroke-width:0.8;\"/>\n     </g>\n     <g id=\"line2d_12\">\n      <g>\n       <use style=\"fill:#555555;stroke:#555555;stroke-width:0.8;\" x=\"377.980511\" xlink:href=\"#mf77205c0aa\" y=\"241.58175\"/>\n      </g>\n     </g>\n     <g id=\"text_6\">\n      <!-- 25 -->\n      <g style=\"fill:#555555;\" transform=\"translate(371.618011 256.180187)scale(0.1 -0.1)\">\n       <use xlink:href=\"#DejaVuSans-50\"/>\n       <use x=\"63.623047\" xlink:href=\"#DejaVuSans-53\"/>\n      </g>\n     </g>\n    </g>\n    <g id=\"text_7\">\n     <!-- Epoch # -->\n     <defs>\n      <path d=\"M 9.8125 72.90625 \nL 55.90625 72.90625 \nL 55.90625 64.59375 \nL 19.671875 64.59375 \nL 19.671875 43.015625 \nL 54.390625 43.015625 \nL 54.390625 34.71875 \nL 19.671875 34.71875 \nL 19.671875 8.296875 \nL 56.78125 8.296875 \nL 56.78125 0 \nL 9.8125 0 \nz\n\" id=\"DejaVuSans-69\"/>\n      <path d=\"M 18.109375 8.203125 \nL 18.109375 -20.796875 \nL 9.078125 -20.796875 \nL 9.078125 54.6875 \nL 18.109375 54.6875 \nL 18.109375 46.390625 \nQ 20.953125 51.265625 25.265625 53.625 \nQ 29.59375 56 35.59375 56 \nQ 45.5625 56 51.78125 48.09375 \nQ 58.015625 40.1875 58.015625 27.296875 \nQ 58.015625 14.40625 51.78125 6.484375 \nQ 45.5625 -1.421875 35.59375 -1.421875 \nQ 29.59375 -1.421875 25.265625 0.953125 \nQ 20.953125 3.328125 18.109375 8.203125 \nz\nM 48.6875 27.296875 \nQ 48.6875 37.203125 44.609375 42.84375 \nQ 40.53125 48.484375 33.40625 48.484375 \nQ 26.265625 48.484375 22.1875 42.84375 \nQ 18.109375 37.203125 18.109375 27.296875 \nQ 18.109375 17.390625 22.1875 11.75 \nQ 26.265625 6.109375 33.40625 6.109375 \nQ 40.53125 6.109375 44.609375 11.75 \nQ 48.6875 17.390625 48.6875 27.296875 \nz\n\" id=\"DejaVuSans-112\"/>\n      <path d=\"M 30.609375 48.390625 \nQ 23.390625 48.390625 19.1875 42.75 \nQ 14.984375 37.109375 14.984375 27.296875 \nQ 14.984375 17.484375 19.15625 11.84375 \nQ 23.34375 6.203125 30.609375 6.203125 \nQ 37.796875 6.203125 41.984375 11.859375 \nQ 46.1875 17.53125 46.1875 27.296875 \nQ 46.1875 37.015625 41.984375 42.703125 \nQ 37.796875 48.390625 30.609375 48.390625 \nz\nM 30.609375 56 \nQ 42.328125 56 49.015625 48.375 \nQ 55.71875 40.765625 55.71875 27.296875 \nQ 55.71875 13.875 49.015625 6.21875 \nQ 42.328125 -1.421875 30.609375 -1.421875 \nQ 18.84375 -1.421875 12.171875 6.21875 \nQ 5.515625 13.875 5.515625 27.296875 \nQ 5.515625 40.765625 12.171875 48.375 \nQ 18.84375 56 30.609375 56 \nz\n\" id=\"DejaVuSans-111\"/>\n      <path d=\"M 48.78125 52.59375 \nL 48.78125 44.1875 \nQ 44.96875 46.296875 41.140625 47.34375 \nQ 37.3125 48.390625 33.40625 48.390625 \nQ 24.65625 48.390625 19.8125 42.84375 \nQ 14.984375 37.3125 14.984375 27.296875 \nQ 14.984375 17.28125 19.8125 11.734375 \nQ 24.65625 6.203125 33.40625 6.203125 \nQ 37.3125 6.203125 41.140625 7.25 \nQ 44.96875 8.296875 48.78125 10.40625 \nL 48.78125 2.09375 \nQ 45.015625 0.34375 40.984375 -0.53125 \nQ 36.96875 -1.421875 32.421875 -1.421875 \nQ 20.0625 -1.421875 12.78125 6.34375 \nQ 5.515625 14.109375 5.515625 27.296875 \nQ 5.515625 40.671875 12.859375 48.328125 \nQ 20.21875 56 33.015625 56 \nQ 37.15625 56 41.109375 55.140625 \nQ 45.0625 54.296875 48.78125 52.59375 \nz\n\" id=\"DejaVuSans-99\"/>\n      <path d=\"M 54.890625 33.015625 \nL 54.890625 0 \nL 45.90625 0 \nL 45.90625 32.71875 \nQ 45.90625 40.484375 42.875 44.328125 \nQ 39.84375 48.1875 33.796875 48.1875 \nQ 26.515625 48.1875 22.3125 43.546875 \nQ 18.109375 38.921875 18.109375 30.90625 \nL 18.109375 0 \nL 9.078125 0 \nL 9.078125 75.984375 \nL 18.109375 75.984375 \nL 18.109375 46.1875 \nQ 21.34375 51.125 25.703125 53.5625 \nQ 30.078125 56 35.796875 56 \nQ 45.21875 56 50.046875 50.171875 \nQ 54.890625 44.34375 54.890625 33.015625 \nz\n\" id=\"DejaVuSans-104\"/>\n      <path id=\"DejaVuSans-32\"/>\n      <path d=\"M 51.125 44 \nL 36.921875 44 \nL 32.8125 27.6875 \nL 47.125 27.6875 \nz\nM 43.796875 71.78125 \nL 38.71875 51.515625 \nL 52.984375 51.515625 \nL 58.109375 71.78125 \nL 65.921875 71.78125 \nL 60.890625 51.515625 \nL 76.125 51.515625 \nL 76.125 44 \nL 58.984375 44 \nL 54.984375 27.6875 \nL 70.515625 27.6875 \nL 70.515625 20.21875 \nL 53.078125 20.21875 \nL 48 0 \nL 40.1875 0 \nL 45.21875 20.21875 \nL 30.90625 20.21875 \nL 25.875 0 \nL 18.015625 0 \nL 23.09375 20.21875 \nL 7.71875 20.21875 \nL 7.71875 27.6875 \nL 24.90625 27.6875 \nL 29 44 \nL 13.28125 44 \nL 13.28125 51.515625 \nL 30.90625 51.515625 \nL 35.890625 71.78125 \nz\n\" id=\"DejaVuSans-35\"/>\n     </defs>\n     <g style=\"fill:#555555;\" transform=\"translate(187.809062 271.378)scale(0.12 -0.12)\">\n      <use xlink:href=\"#DejaVuSans-69\"/>\n      <use x=\"63.183594\" xlink:href=\"#DejaVuSans-112\"/>\n      <use x=\"126.660156\" xlink:href=\"#DejaVuSans-111\"/>\n      <use x=\"187.841797\" xlink:href=\"#DejaVuSans-99\"/>\n      <use x=\"242.822266\" xlink:href=\"#DejaVuSans-104\"/>\n      <use x=\"306.201172\" xlink:href=\"#DejaVuSans-32\"/>\n      <use x=\"337.988281\" xlink:href=\"#DejaVuSans-35\"/>\n     </g>\n    </g>\n   </g>\n   <g id=\"matplotlib.axis_2\">\n    <g id=\"ytick_1\">\n     <g id=\"line2d_13\">\n      <path clip-path=\"url(#p5f38295c78)\" d=\"M 45.716875 236.592231 \nL 380.516875 236.592231 \n\" style=\"fill:none;stroke:#ffffff;stroke-linecap:square;stroke-width:0.8;\"/>\n     </g>\n     <g id=\"line2d_14\">\n      <defs>\n       <path d=\"M 0 0 \nL -3.5 0 \n\" id=\"med86c9c723\" style=\"stroke:#555555;stroke-width:0.8;\"/>\n      </defs>\n      <g>\n       <use style=\"fill:#555555;stroke:#555555;stroke-width:0.8;\" x=\"45.716875\" xlink:href=\"#med86c9c723\" y=\"236.592231\"/>\n      </g>\n     </g>\n     <g id=\"text_8\">\n      <!-- 0.0 -->\n      <defs>\n       <path d=\"M 10.6875 12.40625 \nL 21 12.40625 \nL 21 0 \nL 10.6875 0 \nz\n\" id=\"DejaVuSans-46\"/>\n      </defs>\n      <g style=\"fill:#555555;\" transform=\"translate(22.81375 240.39145)scale(0.1 -0.1)\">\n       <use xlink:href=\"#DejaVuSans-48\"/>\n       <use x=\"63.623047\" xlink:href=\"#DejaVuSans-46\"/>\n       <use x=\"95.410156\" xlink:href=\"#DejaVuSans-48\"/>\n      </g>\n     </g>\n    </g>\n    <g id=\"ytick_2\">\n     <g id=\"line2d_15\">\n      <path clip-path=\"url(#p5f38295c78)\" d=\"M 45.716875 204.452406 \nL 380.516875 204.452406 \n\" style=\"fill:none;stroke:#ffffff;stroke-linecap:square;stroke-width:0.8;\"/>\n     </g>\n     <g id=\"line2d_16\">\n      <g>\n       <use style=\"fill:#555555;stroke:#555555;stroke-width:0.8;\" x=\"45.716875\" xlink:href=\"#med86c9c723\" y=\"204.452406\"/>\n      </g>\n     </g>\n     <g id=\"text_9\">\n      <!-- 0.2 -->\n      <g style=\"fill:#555555;\" transform=\"translate(22.81375 208.251625)scale(0.1 -0.1)\">\n       <use xlink:href=\"#DejaVuSans-48\"/>\n       <use x=\"63.623047\" xlink:href=\"#DejaVuSans-46\"/>\n       <use x=\"95.410156\" xlink:href=\"#DejaVuSans-50\"/>\n      </g>\n     </g>\n    </g>\n    <g id=\"ytick_3\">\n     <g id=\"line2d_17\">\n      <path clip-path=\"url(#p5f38295c78)\" d=\"M 45.716875 172.312582 \nL 380.516875 172.312582 \n\" style=\"fill:none;stroke:#ffffff;stroke-linecap:square;stroke-width:0.8;\"/>\n     </g>\n     <g id=\"line2d_18\">\n      <g>\n       <use style=\"fill:#555555;stroke:#555555;stroke-width:0.8;\" x=\"45.716875\" xlink:href=\"#med86c9c723\" y=\"172.312582\"/>\n      </g>\n     </g>\n     <g id=\"text_10\">\n      <!-- 0.4 -->\n      <defs>\n       <path d=\"M 37.796875 64.3125 \nL 12.890625 25.390625 \nL 37.796875 25.390625 \nz\nM 35.203125 72.90625 \nL 47.609375 72.90625 \nL 47.609375 25.390625 \nL 58.015625 25.390625 \nL 58.015625 17.1875 \nL 47.609375 17.1875 \nL 47.609375 0 \nL 37.796875 0 \nL 37.796875 17.1875 \nL 4.890625 17.1875 \nL 4.890625 26.703125 \nz\n\" id=\"DejaVuSans-52\"/>\n      </defs>\n      <g style=\"fill:#555555;\" transform=\"translate(22.81375 176.1118)scale(0.1 -0.1)\">\n       <use xlink:href=\"#DejaVuSans-48\"/>\n       <use x=\"63.623047\" xlink:href=\"#DejaVuSans-46\"/>\n       <use x=\"95.410156\" xlink:href=\"#DejaVuSans-52\"/>\n      </g>\n     </g>\n    </g>\n    <g id=\"ytick_4\">\n     <g id=\"line2d_19\">\n      <path clip-path=\"url(#p5f38295c78)\" d=\"M 45.716875 140.172757 \nL 380.516875 140.172757 \n\" style=\"fill:none;stroke:#ffffff;stroke-linecap:square;stroke-width:0.8;\"/>\n     </g>\n     <g id=\"line2d_20\">\n      <g>\n       <use style=\"fill:#555555;stroke:#555555;stroke-width:0.8;\" x=\"45.716875\" xlink:href=\"#med86c9c723\" y=\"140.172757\"/>\n      </g>\n     </g>\n     <g id=\"text_11\">\n      <!-- 0.6 -->\n      <defs>\n       <path d=\"M 33.015625 40.375 \nQ 26.375 40.375 22.484375 35.828125 \nQ 18.609375 31.296875 18.609375 23.390625 \nQ 18.609375 15.53125 22.484375 10.953125 \nQ 26.375 6.390625 33.015625 6.390625 \nQ 39.65625 6.390625 43.53125 10.953125 \nQ 47.40625 15.53125 47.40625 23.390625 \nQ 47.40625 31.296875 43.53125 35.828125 \nQ 39.65625 40.375 33.015625 40.375 \nz\nM 52.59375 71.296875 \nL 52.59375 62.3125 \nQ 48.875 64.0625 45.09375 64.984375 \nQ 41.3125 65.921875 37.59375 65.921875 \nQ 27.828125 65.921875 22.671875 59.328125 \nQ 17.53125 52.734375 16.796875 39.40625 \nQ 19.671875 43.65625 24.015625 45.921875 \nQ 28.375 48.1875 33.59375 48.1875 \nQ 44.578125 48.1875 50.953125 41.515625 \nQ 57.328125 34.859375 57.328125 23.390625 \nQ 57.328125 12.15625 50.6875 5.359375 \nQ 44.046875 -1.421875 33.015625 -1.421875 \nQ 20.359375 -1.421875 13.671875 8.265625 \nQ 6.984375 17.96875 6.984375 36.375 \nQ 6.984375 53.65625 15.1875 63.9375 \nQ 23.390625 74.21875 37.203125 74.21875 \nQ 40.921875 74.21875 44.703125 73.484375 \nQ 48.484375 72.75 52.59375 71.296875 \nz\n\" id=\"DejaVuSans-54\"/>\n      </defs>\n      <g style=\"fill:#555555;\" transform=\"translate(22.81375 143.971976)scale(0.1 -0.1)\">\n       <use xlink:href=\"#DejaVuSans-48\"/>\n       <use x=\"63.623047\" xlink:href=\"#DejaVuSans-46\"/>\n       <use x=\"95.410156\" xlink:href=\"#DejaVuSans-54\"/>\n      </g>\n     </g>\n    </g>\n    <g id=\"ytick_5\">\n     <g id=\"line2d_21\">\n      <path clip-path=\"url(#p5f38295c78)\" d=\"M 45.716875 108.032932 \nL 380.516875 108.032932 \n\" style=\"fill:none;stroke:#ffffff;stroke-linecap:square;stroke-width:0.8;\"/>\n     </g>\n     <g id=\"line2d_22\">\n      <g>\n       <use style=\"fill:#555555;stroke:#555555;stroke-width:0.8;\" x=\"45.716875\" xlink:href=\"#med86c9c723\" y=\"108.032932\"/>\n      </g>\n     </g>\n     <g id=\"text_12\">\n      <!-- 0.8 -->\n      <defs>\n       <path d=\"M 31.78125 34.625 \nQ 24.75 34.625 20.71875 30.859375 \nQ 16.703125 27.09375 16.703125 20.515625 \nQ 16.703125 13.921875 20.71875 10.15625 \nQ 24.75 6.390625 31.78125 6.390625 \nQ 38.8125 6.390625 42.859375 10.171875 \nQ 46.921875 13.96875 46.921875 20.515625 \nQ 46.921875 27.09375 42.890625 30.859375 \nQ 38.875 34.625 31.78125 34.625 \nz\nM 21.921875 38.8125 \nQ 15.578125 40.375 12.03125 44.71875 \nQ 8.5 49.078125 8.5 55.328125 \nQ 8.5 64.0625 14.71875 69.140625 \nQ 20.953125 74.21875 31.78125 74.21875 \nQ 42.671875 74.21875 48.875 69.140625 \nQ 55.078125 64.0625 55.078125 55.328125 \nQ 55.078125 49.078125 51.53125 44.71875 \nQ 48 40.375 41.703125 38.8125 \nQ 48.828125 37.15625 52.796875 32.3125 \nQ 56.78125 27.484375 56.78125 20.515625 \nQ 56.78125 9.90625 50.3125 4.234375 \nQ 43.84375 -1.421875 31.78125 -1.421875 \nQ 19.734375 -1.421875 13.25 4.234375 \nQ 6.78125 9.90625 6.78125 20.515625 \nQ 6.78125 27.484375 10.78125 32.3125 \nQ 14.796875 37.15625 21.921875 38.8125 \nz\nM 18.3125 54.390625 \nQ 18.3125 48.734375 21.84375 45.5625 \nQ 25.390625 42.390625 31.78125 42.390625 \nQ 38.140625 42.390625 41.71875 45.5625 \nQ 45.3125 48.734375 45.3125 54.390625 \nQ 45.3125 60.0625 41.71875 63.234375 \nQ 38.140625 66.40625 31.78125 66.40625 \nQ 25.390625 66.40625 21.84375 63.234375 \nQ 18.3125 60.0625 18.3125 54.390625 \nz\n\" id=\"DejaVuSans-56\"/>\n      </defs>\n      <g style=\"fill:#555555;\" transform=\"translate(22.81375 111.832151)scale(0.1 -0.1)\">\n       <use xlink:href=\"#DejaVuSans-48\"/>\n       <use x=\"63.623047\" xlink:href=\"#DejaVuSans-46\"/>\n       <use x=\"95.410156\" xlink:href=\"#DejaVuSans-56\"/>\n      </g>\n     </g>\n    </g>\n    <g id=\"ytick_6\">\n     <g id=\"line2d_23\">\n      <path clip-path=\"url(#p5f38295c78)\" d=\"M 45.716875 75.893107 \nL 380.516875 75.893107 \n\" style=\"fill:none;stroke:#ffffff;stroke-linecap:square;stroke-width:0.8;\"/>\n     </g>\n     <g id=\"line2d_24\">\n      <g>\n       <use style=\"fill:#555555;stroke:#555555;stroke-width:0.8;\" x=\"45.716875\" xlink:href=\"#med86c9c723\" y=\"75.893107\"/>\n      </g>\n     </g>\n     <g id=\"text_13\">\n      <!-- 1.0 -->\n      <g style=\"fill:#555555;\" transform=\"translate(22.81375 79.692326)scale(0.1 -0.1)\">\n       <use xlink:href=\"#DejaVuSans-49\"/>\n       <use x=\"63.623047\" xlink:href=\"#DejaVuSans-46\"/>\n       <use x=\"95.410156\" xlink:href=\"#DejaVuSans-48\"/>\n      </g>\n     </g>\n    </g>\n    <g id=\"ytick_7\">\n     <g id=\"line2d_25\">\n      <path clip-path=\"url(#p5f38295c78)\" d=\"M 45.716875 43.753283 \nL 380.516875 43.753283 \n\" style=\"fill:none;stroke:#ffffff;stroke-linecap:square;stroke-width:0.8;\"/>\n     </g>\n     <g id=\"line2d_26\">\n      <g>\n       <use style=\"fill:#555555;stroke:#555555;stroke-width:0.8;\" x=\"45.716875\" xlink:href=\"#med86c9c723\" y=\"43.753283\"/>\n      </g>\n     </g>\n     <g id=\"text_14\">\n      <!-- 1.2 -->\n      <g style=\"fill:#555555;\" transform=\"translate(22.81375 47.552501)scale(0.1 -0.1)\">\n       <use xlink:href=\"#DejaVuSans-49\"/>\n       <use x=\"63.623047\" xlink:href=\"#DejaVuSans-46\"/>\n       <use x=\"95.410156\" xlink:href=\"#DejaVuSans-50\"/>\n      </g>\n     </g>\n    </g>\n    <g id=\"text_15\">\n     <!-- Loss/Accuracy -->\n     <defs>\n      <path d=\"M 9.8125 72.90625 \nL 19.671875 72.90625 \nL 19.671875 8.296875 \nL 55.171875 8.296875 \nL 55.171875 0 \nL 9.8125 0 \nz\n\" id=\"DejaVuSans-76\"/>\n      <path d=\"M 44.28125 53.078125 \nL 44.28125 44.578125 \nQ 40.484375 46.53125 36.375 47.5 \nQ 32.28125 48.484375 27.875 48.484375 \nQ 21.1875 48.484375 17.84375 46.4375 \nQ 14.5 44.390625 14.5 40.28125 \nQ 14.5 37.15625 16.890625 35.375 \nQ 19.28125 33.59375 26.515625 31.984375 \nL 29.59375 31.296875 \nQ 39.15625 29.25 43.1875 25.515625 \nQ 47.21875 21.78125 47.21875 15.09375 \nQ 47.21875 7.46875 41.1875 3.015625 \nQ 35.15625 -1.421875 24.609375 -1.421875 \nQ 20.21875 -1.421875 15.453125 -0.5625 \nQ 10.6875 0.296875 5.421875 2 \nL 5.421875 11.28125 \nQ 10.40625 8.6875 15.234375 7.390625 \nQ 20.0625 6.109375 24.8125 6.109375 \nQ 31.15625 6.109375 34.5625 8.28125 \nQ 37.984375 10.453125 37.984375 14.40625 \nQ 37.984375 18.0625 35.515625 20.015625 \nQ 33.0625 21.96875 24.703125 23.78125 \nL 21.578125 24.515625 \nQ 13.234375 26.265625 9.515625 29.90625 \nQ 5.8125 33.546875 5.8125 39.890625 \nQ 5.8125 47.609375 11.28125 51.796875 \nQ 16.75 56 26.8125 56 \nQ 31.78125 56 36.171875 55.265625 \nQ 40.578125 54.546875 44.28125 53.078125 \nz\n\" id=\"DejaVuSans-115\"/>\n      <path d=\"M 25.390625 72.90625 \nL 33.6875 72.90625 \nL 8.296875 -9.28125 \nL 0 -9.28125 \nz\n\" id=\"DejaVuSans-47\"/>\n      <path d=\"M 34.1875 63.1875 \nL 20.796875 26.90625 \nL 47.609375 26.90625 \nz\nM 28.609375 72.90625 \nL 39.796875 72.90625 \nL 67.578125 0 \nL 57.328125 0 \nL 50.6875 18.703125 \nL 17.828125 18.703125 \nL 11.1875 0 \nL 0.78125 0 \nz\n\" id=\"DejaVuSans-65\"/>\n      <path d=\"M 8.5 21.578125 \nL 8.5 54.6875 \nL 17.484375 54.6875 \nL 17.484375 21.921875 \nQ 17.484375 14.15625 20.5 10.265625 \nQ 23.53125 6.390625 29.59375 6.390625 \nQ 36.859375 6.390625 41.078125 11.03125 \nQ 45.3125 15.671875 45.3125 23.6875 \nL 45.3125 54.6875 \nL 54.296875 54.6875 \nL 54.296875 0 \nL 45.3125 0 \nL 45.3125 8.40625 \nQ 42.046875 3.421875 37.71875 1 \nQ 33.40625 -1.421875 27.6875 -1.421875 \nQ 18.265625 -1.421875 13.375 4.4375 \nQ 8.5 10.296875 8.5 21.578125 \nz\nM 31.109375 56 \nz\n\" id=\"DejaVuSans-117\"/>\n      <path d=\"M 41.109375 46.296875 \nQ 39.59375 47.171875 37.8125 47.578125 \nQ 36.03125 48 33.890625 48 \nQ 26.265625 48 22.1875 43.046875 \nQ 18.109375 38.09375 18.109375 28.8125 \nL 18.109375 0 \nL 9.078125 0 \nL 9.078125 54.6875 \nL 18.109375 54.6875 \nL 18.109375 46.1875 \nQ 20.953125 51.171875 25.484375 53.578125 \nQ 30.03125 56 36.53125 56 \nQ 37.453125 56 38.578125 55.875 \nQ 39.703125 55.765625 41.0625 55.515625 \nz\n\" id=\"DejaVuSans-114\"/>\n      <path d=\"M 34.28125 27.484375 \nQ 23.390625 27.484375 19.1875 25 \nQ 14.984375 22.515625 14.984375 16.5 \nQ 14.984375 11.71875 18.140625 8.90625 \nQ 21.296875 6.109375 26.703125 6.109375 \nQ 34.1875 6.109375 38.703125 11.40625 \nQ 43.21875 16.703125 43.21875 25.484375 \nL 43.21875 27.484375 \nz\nM 52.203125 31.203125 \nL 52.203125 0 \nL 43.21875 0 \nL 43.21875 8.296875 \nQ 40.140625 3.328125 35.546875 0.953125 \nQ 30.953125 -1.421875 24.3125 -1.421875 \nQ 15.921875 -1.421875 10.953125 3.296875 \nQ 6 8.015625 6 15.921875 \nQ 6 25.140625 12.171875 29.828125 \nQ 18.359375 34.515625 30.609375 34.515625 \nL 43.21875 34.515625 \nL 43.21875 35.40625 \nQ 43.21875 41.609375 39.140625 45 \nQ 35.0625 48.390625 27.6875 48.390625 \nQ 23 48.390625 18.546875 47.265625 \nQ 14.109375 46.140625 10.015625 43.890625 \nL 10.015625 52.203125 \nQ 14.9375 54.109375 19.578125 55.046875 \nQ 24.21875 56 28.609375 56 \nQ 40.484375 56 46.34375 49.84375 \nQ 52.203125 43.703125 52.203125 31.203125 \nz\n\" id=\"DejaVuSans-97\"/>\n      <path d=\"M 32.171875 -5.078125 \nQ 28.375 -14.84375 24.75 -17.8125 \nQ 21.140625 -20.796875 15.09375 -20.796875 \nL 7.90625 -20.796875 \nL 7.90625 -13.28125 \nL 13.1875 -13.28125 \nQ 16.890625 -13.28125 18.9375 -11.515625 \nQ 21 -9.765625 23.484375 -3.21875 \nL 25.09375 0.875 \nL 2.984375 54.6875 \nL 12.5 54.6875 \nL 29.59375 11.921875 \nL 46.6875 54.6875 \nL 56.203125 54.6875 \nz\n\" id=\"DejaVuSans-121\"/>\n     </defs>\n     <g style=\"fill:#555555;\" transform=\"translate(16.318125 175.6455)rotate(-90)scale(0.12 -0.12)\">\n      <use xlink:href=\"#DejaVuSans-76\"/>\n      <use x=\"55.697266\" xlink:href=\"#DejaVuSans-111\"/>\n      <use x=\"116.878906\" xlink:href=\"#DejaVuSans-115\"/>\n      <use x=\"168.978516\" xlink:href=\"#DejaVuSans-115\"/>\n      <use x=\"221.078125\" xlink:href=\"#DejaVuSans-47\"/>\n      <use x=\"254.769531\" xlink:href=\"#DejaVuSans-65\"/>\n      <use x=\"323.162109\" xlink:href=\"#DejaVuSans-99\"/>\n      <use x=\"378.142578\" xlink:href=\"#DejaVuSans-99\"/>\n      <use x=\"433.123047\" xlink:href=\"#DejaVuSans-117\"/>\n      <use x=\"496.501953\" xlink:href=\"#DejaVuSans-114\"/>\n      <use x=\"537.615234\" xlink:href=\"#DejaVuSans-97\"/>\n      <use x=\"598.894531\" xlink:href=\"#DejaVuSans-99\"/>\n      <use x=\"653.875\" xlink:href=\"#DejaVuSans-121\"/>\n     </g>\n    </g>\n   </g>\n   <g id=\"line2d_27\">\n    <path clip-path=\"url(#p5f38295c78)\" d=\"M 60.935057 211.134659 \nL 73.616875 217.40954 \nL 86.298693 220.239836 \nL 98.980511 223.537429 \nL 111.66233 223.804535 \nL 124.344148 220.15505 \nL 137.025966 222.306997 \nL 149.707784 225.075286 \nL 162.389602 223.287382 \nL 175.07142 225.646837 \nL 187.753239 221.868894 \nL 200.435057 226.588902 \nL 213.116875 229.201284 \nL 225.798693 228.103313 \nL 238.480511 230.403599 \nL 251.16233 228.179159 \nL 263.844148 229.996115 \nL 276.525966 225.852716 \nL 289.207784 227.022027 \nL 301.889602 225.540046 \nL 314.57142 231.698114 \nL 327.253239 228.471243 \nL 339.935057 228.570043 \nL 352.616875 229.172744 \nL 365.298693 227.001537 \n\" style=\"fill:none;stroke:#e24a33;stroke-linecap:square;stroke-width:1.5;\"/>\n   </g>\n   <g id=\"line2d_28\">\n    <path clip-path=\"url(#p5f38295c78)\" d=\"M 60.935057 34.025386 \nL 73.616875 47.84874 \nL 86.298693 61.052348 \nL 98.980511 80.785873 \nL 111.66233 104.112482 \nL 124.344148 110.388598 \nL 137.025966 105.362487 \nL 149.707784 94.79569 \nL 162.389602 88.948061 \nL 175.07142 109.074024 \nL 187.753239 136.667797 \nL 200.435057 142.380964 \nL 213.116875 132.127695 \nL 225.798693 136.317341 \nL 238.480511 119.415327 \nL 251.16233 140.833584 \nL 263.844148 124.925771 \nL 276.525966 126.296241 \nL 289.207784 140.673244 \nL 301.889602 124.955252 \nL 314.57142 113.766687 \nL 327.253239 96.297403 \nL 339.935057 109.919167 \nL 352.616875 121.675853 \nL 365.298693 103.564629 \n\" style=\"fill:none;stroke:#348abd;stroke-linecap:square;stroke-width:1.5;\"/>\n   </g>\n   <g id=\"line2d_29\">\n    <path clip-path=\"url(#p5f38295c78)\" d=\"M 60.935057 83.844369 \nL 73.616875 80.496464 \nL 86.298693 80.914955 \nL 98.980511 80.077984 \nL 111.66233 80.077984 \nL 124.344148 79.659493 \nL 137.025966 80.496464 \nL 149.707784 79.241003 \nL 162.389602 79.241003 \nL 175.07142 78.404031 \nL 187.753239 79.659493 \nL 200.435057 77.56706 \nL 213.116875 79.241003 \nL 225.798693 78.404031 \nL 238.480511 76.730079 \nL 251.16233 77.985541 \nL 263.844148 76.730079 \nL 276.525966 78.404031 \nL 289.207784 77.985541 \nL 301.889602 78.822522 \nL 314.57142 77.56706 \nL 327.253239 78.822522 \nL 339.935057 77.56706 \nL 352.616875 77.985541 \nL 365.298693 78.404031 \n\" style=\"fill:none;stroke:#988ed5;stroke-linecap:square;stroke-width:1.5;\"/>\n   </g>\n   <g id=\"line2d_30\">\n    <path clip-path=\"url(#p5f38295c78)\" d=\"M 60.935057 127.785536 \nL 73.616875 121.089736 \nL 86.298693 112.719993 \nL 98.980511 109.372088 \nL 111.66233 101.002345 \nL 124.344148 107.698145 \nL 137.025966 109.372088 \nL 149.707784 104.350241 \nL 162.389602 109.372088 \nL 175.07142 104.350241 \nL 187.753239 99.328393 \nL 200.435057 101.002345 \nL 213.116875 101.002345 \nL 225.798693 104.350241 \nL 238.480511 104.350241 \nL 251.16233 101.002345 \nL 263.844148 102.676298 \nL 276.525966 101.002345 \nL 289.207784 94.306545 \nL 301.889602 97.65445 \nL 314.57142 99.328393 \nL 327.253239 99.328393 \nL 339.935057 99.328393 \nL 352.616875 95.980498 \nL 365.298693 99.328393 \n\" style=\"fill:none;stroke:#777777;stroke-linecap:square;stroke-width:1.5;\"/>\n   </g>\n   <g id=\"patch_3\">\n    <path d=\"M 45.716875 241.58175 \nL 45.716875 24.14175 \n\" style=\"fill:none;stroke:#ffffff;stroke-linecap:square;stroke-linejoin:miter;\"/>\n   </g>\n   <g id=\"patch_4\">\n    <path d=\"M 380.516875 241.58175 \nL 380.516875 24.14175 \n\" style=\"fill:none;stroke:#ffffff;stroke-linecap:square;stroke-linejoin:miter;\"/>\n   </g>\n   <g id=\"patch_5\">\n    <path d=\"M 45.716875 241.58175 \nL 380.516875 241.58175 \n\" style=\"fill:none;stroke:#ffffff;stroke-linecap:square;stroke-linejoin:miter;\"/>\n   </g>\n   <g id=\"patch_6\">\n    <path d=\"M 45.716875 24.14175 \nL 380.516875 24.14175 \n\" style=\"fill:none;stroke:#ffffff;stroke-linecap:square;stroke-linejoin:miter;\"/>\n   </g>\n   <g id=\"text_16\">\n    <!-- Training Loss and Accuracy -->\n    <defs>\n     <path d=\"M -0.296875 72.90625 \nL 61.375 72.90625 \nL 61.375 64.59375 \nL 35.5 64.59375 \nL 35.5 0 \nL 25.59375 0 \nL 25.59375 64.59375 \nL -0.296875 64.59375 \nz\n\" id=\"DejaVuSans-84\"/>\n     <path d=\"M 9.421875 54.6875 \nL 18.40625 54.6875 \nL 18.40625 0 \nL 9.421875 0 \nz\nM 9.421875 75.984375 \nL 18.40625 75.984375 \nL 18.40625 64.59375 \nL 9.421875 64.59375 \nz\n\" id=\"DejaVuSans-105\"/>\n     <path d=\"M 54.890625 33.015625 \nL 54.890625 0 \nL 45.90625 0 \nL 45.90625 32.71875 \nQ 45.90625 40.484375 42.875 44.328125 \nQ 39.84375 48.1875 33.796875 48.1875 \nQ 26.515625 48.1875 22.3125 43.546875 \nQ 18.109375 38.921875 18.109375 30.90625 \nL 18.109375 0 \nL 9.078125 0 \nL 9.078125 54.6875 \nL 18.109375 54.6875 \nL 18.109375 46.1875 \nQ 21.34375 51.125 25.703125 53.5625 \nQ 30.078125 56 35.796875 56 \nQ 45.21875 56 50.046875 50.171875 \nQ 54.890625 44.34375 54.890625 33.015625 \nz\n\" id=\"DejaVuSans-110\"/>\n     <path d=\"M 45.40625 27.984375 \nQ 45.40625 37.75 41.375 43.109375 \nQ 37.359375 48.484375 30.078125 48.484375 \nQ 22.859375 48.484375 18.828125 43.109375 \nQ 14.796875 37.75 14.796875 27.984375 \nQ 14.796875 18.265625 18.828125 12.890625 \nQ 22.859375 7.515625 30.078125 7.515625 \nQ 37.359375 7.515625 41.375 12.890625 \nQ 45.40625 18.265625 45.40625 27.984375 \nz\nM 54.390625 6.78125 \nQ 54.390625 -7.171875 48.1875 -13.984375 \nQ 42 -20.796875 29.203125 -20.796875 \nQ 24.46875 -20.796875 20.265625 -20.09375 \nQ 16.0625 -19.390625 12.109375 -17.921875 \nL 12.109375 -9.1875 \nQ 16.0625 -11.328125 19.921875 -12.34375 \nQ 23.78125 -13.375 27.78125 -13.375 \nQ 36.625 -13.375 41.015625 -8.765625 \nQ 45.40625 -4.15625 45.40625 5.171875 \nL 45.40625 9.625 \nQ 42.625 4.78125 38.28125 2.390625 \nQ 33.9375 0 27.875 0 \nQ 17.828125 0 11.671875 7.65625 \nQ 5.515625 15.328125 5.515625 27.984375 \nQ 5.515625 40.671875 11.671875 48.328125 \nQ 17.828125 56 27.875 56 \nQ 33.9375 56 38.28125 53.609375 \nQ 42.625 51.21875 45.40625 46.390625 \nL 45.40625 54.6875 \nL 54.390625 54.6875 \nz\n\" id=\"DejaVuSans-103\"/>\n     <path d=\"M 45.40625 46.390625 \nL 45.40625 75.984375 \nL 54.390625 75.984375 \nL 54.390625 0 \nL 45.40625 0 \nL 45.40625 8.203125 \nQ 42.578125 3.328125 38.25 0.953125 \nQ 33.9375 -1.421875 27.875 -1.421875 \nQ 17.96875 -1.421875 11.734375 6.484375 \nQ 5.515625 14.40625 5.515625 27.296875 \nQ 5.515625 40.1875 11.734375 48.09375 \nQ 17.96875 56 27.875 56 \nQ 33.9375 56 38.25 53.625 \nQ 42.578125 51.265625 45.40625 46.390625 \nz\nM 14.796875 27.296875 \nQ 14.796875 17.390625 18.875 11.75 \nQ 22.953125 6.109375 30.078125 6.109375 \nQ 37.203125 6.109375 41.296875 11.75 \nQ 45.40625 17.390625 45.40625 27.296875 \nQ 45.40625 37.203125 41.296875 42.84375 \nQ 37.203125 48.484375 30.078125 48.484375 \nQ 22.953125 48.484375 18.875 42.84375 \nQ 14.796875 37.203125 14.796875 27.296875 \nz\n\" id=\"DejaVuSans-100\"/>\n    </defs>\n    <g transform=\"translate(114.339625 18.14175)scale(0.144 -0.144)\">\n     <use xlink:href=\"#DejaVuSans-84\"/>\n     <use x=\"60.865234\" xlink:href=\"#DejaVuSans-114\"/>\n     <use x=\"101.978516\" xlink:href=\"#DejaVuSans-97\"/>\n     <use x=\"163.257812\" xlink:href=\"#DejaVuSans-105\"/>\n     <use x=\"191.041016\" xlink:href=\"#DejaVuSans-110\"/>\n     <use x=\"254.419922\" xlink:href=\"#DejaVuSans-105\"/>\n     <use x=\"282.203125\" xlink:href=\"#DejaVuSans-110\"/>\n     <use x=\"345.582031\" xlink:href=\"#DejaVuSans-103\"/>\n     <use x=\"409.058594\" xlink:href=\"#DejaVuSans-32\"/>\n     <use x=\"440.845703\" xlink:href=\"#DejaVuSans-76\"/>\n     <use x=\"496.542969\" xlink:href=\"#DejaVuSans-111\"/>\n     <use x=\"557.724609\" xlink:href=\"#DejaVuSans-115\"/>\n     <use x=\"609.824219\" xlink:href=\"#DejaVuSans-115\"/>\n     <use x=\"661.923828\" xlink:href=\"#DejaVuSans-32\"/>\n     <use x=\"693.710938\" xlink:href=\"#DejaVuSans-97\"/>\n     <use x=\"754.990234\" xlink:href=\"#DejaVuSans-110\"/>\n     <use x=\"818.369141\" xlink:href=\"#DejaVuSans-100\"/>\n     <use x=\"881.845703\" xlink:href=\"#DejaVuSans-32\"/>\n     <use x=\"913.632812\" xlink:href=\"#DejaVuSans-65\"/>\n     <use x=\"982.025391\" xlink:href=\"#DejaVuSans-99\"/>\n     <use x=\"1037.005859\" xlink:href=\"#DejaVuSans-99\"/>\n     <use x=\"1091.986328\" xlink:href=\"#DejaVuSans-117\"/>\n     <use x=\"1155.365234\" xlink:href=\"#DejaVuSans-114\"/>\n     <use x=\"1196.478516\" xlink:href=\"#DejaVuSans-97\"/>\n     <use x=\"1257.757812\" xlink:href=\"#DejaVuSans-99\"/>\n     <use x=\"1312.738281\" xlink:href=\"#DejaVuSans-121\"/>\n    </g>\n   </g>\n   <g id=\"legend_1\">\n    <g id=\"patch_7\">\n     <path d=\"M 52.716875 236.58175 \nL 132.3075 236.58175 \nQ 134.3075 236.58175 134.3075 234.58175 \nL 134.3075 175.75675 \nQ 134.3075 173.75675 132.3075 173.75675 \nL 52.716875 173.75675 \nQ 50.716875 173.75675 50.716875 175.75675 \nL 50.716875 234.58175 \nQ 50.716875 236.58175 52.716875 236.58175 \nz\n\" style=\"fill:#e5e5e5;opacity:0.8;stroke:#cccccc;stroke-linejoin:miter;stroke-width:0.5;\"/>\n    </g>\n    <g id=\"line2d_31\">\n     <path d=\"M 54.716875 181.855187 \nL 74.716875 181.855187 \n\" style=\"fill:none;stroke:#e24a33;stroke-linecap:square;stroke-width:1.5;\"/>\n    </g>\n    <g id=\"line2d_32\"/>\n    <g id=\"text_17\">\n     <!-- train_loss -->\n     <defs>\n      <path d=\"M 18.3125 70.21875 \nL 18.3125 54.6875 \nL 36.8125 54.6875 \nL 36.8125 47.703125 \nL 18.3125 47.703125 \nL 18.3125 18.015625 \nQ 18.3125 11.328125 20.140625 9.421875 \nQ 21.96875 7.515625 27.59375 7.515625 \nL 36.8125 7.515625 \nL 36.8125 0 \nL 27.59375 0 \nQ 17.1875 0 13.234375 3.875 \nQ 9.28125 7.765625 9.28125 18.015625 \nL 9.28125 47.703125 \nL 2.6875 47.703125 \nL 2.6875 54.6875 \nL 9.28125 54.6875 \nL 9.28125 70.21875 \nz\n\" id=\"DejaVuSans-116\"/>\n      <path d=\"M 50.984375 -16.609375 \nL 50.984375 -23.578125 \nL -0.984375 -23.578125 \nL -0.984375 -16.609375 \nz\n\" id=\"DejaVuSans-95\"/>\n      <path d=\"M 9.421875 75.984375 \nL 18.40625 75.984375 \nL 18.40625 0 \nL 9.421875 0 \nz\n\" id=\"DejaVuSans-108\"/>\n     </defs>\n     <g transform=\"translate(82.716875 185.355187)scale(0.1 -0.1)\">\n      <use xlink:href=\"#DejaVuSans-116\"/>\n      <use x=\"39.208984\" xlink:href=\"#DejaVuSans-114\"/>\n      <use x=\"80.322266\" xlink:href=\"#DejaVuSans-97\"/>\n      <use x=\"141.601562\" xlink:href=\"#DejaVuSans-105\"/>\n      <use x=\"169.384766\" xlink:href=\"#DejaVuSans-110\"/>\n      <use x=\"232.763672\" xlink:href=\"#DejaVuSans-95\"/>\n      <use x=\"282.763672\" xlink:href=\"#DejaVuSans-108\"/>\n      <use x=\"310.546875\" xlink:href=\"#DejaVuSans-111\"/>\n      <use x=\"371.728516\" xlink:href=\"#DejaVuSans-115\"/>\n      <use x=\"423.828125\" xlink:href=\"#DejaVuSans-115\"/>\n     </g>\n    </g>\n    <g id=\"line2d_33\">\n     <path d=\"M 54.716875 196.811438 \nL 74.716875 196.811438 \n\" style=\"fill:none;stroke:#348abd;stroke-linecap:square;stroke-width:1.5;\"/>\n    </g>\n    <g id=\"line2d_34\"/>\n    <g id=\"text_18\">\n     <!-- val_loss -->\n     <defs>\n      <path d=\"M 2.984375 54.6875 \nL 12.5 54.6875 \nL 29.59375 8.796875 \nL 46.6875 54.6875 \nL 56.203125 54.6875 \nL 35.6875 0 \nL 23.484375 0 \nz\n\" id=\"DejaVuSans-118\"/>\n     </defs>\n     <g transform=\"translate(82.716875 200.311438)scale(0.1 -0.1)\">\n      <use xlink:href=\"#DejaVuSans-118\"/>\n      <use x=\"59.179688\" xlink:href=\"#DejaVuSans-97\"/>\n      <use x=\"120.458984\" xlink:href=\"#DejaVuSans-108\"/>\n      <use x=\"148.242188\" xlink:href=\"#DejaVuSans-95\"/>\n      <use x=\"198.242188\" xlink:href=\"#DejaVuSans-108\"/>\n      <use x=\"226.025391\" xlink:href=\"#DejaVuSans-111\"/>\n      <use x=\"287.207031\" xlink:href=\"#DejaVuSans-115\"/>\n      <use x=\"339.306641\" xlink:href=\"#DejaVuSans-115\"/>\n     </g>\n    </g>\n    <g id=\"line2d_35\">\n     <path d=\"M 54.716875 211.767687 \nL 74.716875 211.767687 \n\" style=\"fill:none;stroke:#988ed5;stroke-linecap:square;stroke-width:1.5;\"/>\n    </g>\n    <g id=\"line2d_36\"/>\n    <g id=\"text_19\">\n     <!-- train_acc -->\n     <g transform=\"translate(82.716875 215.267687)scale(0.1 -0.1)\">\n      <use xlink:href=\"#DejaVuSans-116\"/>\n      <use x=\"39.208984\" xlink:href=\"#DejaVuSans-114\"/>\n      <use x=\"80.322266\" xlink:href=\"#DejaVuSans-97\"/>\n      <use x=\"141.601562\" xlink:href=\"#DejaVuSans-105\"/>\n      <use x=\"169.384766\" xlink:href=\"#DejaVuSans-110\"/>\n      <use x=\"232.763672\" xlink:href=\"#DejaVuSans-95\"/>\n      <use x=\"282.763672\" xlink:href=\"#DejaVuSans-97\"/>\n      <use x=\"344.042969\" xlink:href=\"#DejaVuSans-99\"/>\n      <use x=\"399.023438\" xlink:href=\"#DejaVuSans-99\"/>\n     </g>\n    </g>\n    <g id=\"line2d_37\">\n     <path d=\"M 54.716875 226.723938 \nL 74.716875 226.723938 \n\" style=\"fill:none;stroke:#777777;stroke-linecap:square;stroke-width:1.5;\"/>\n    </g>\n    <g id=\"line2d_38\"/>\n    <g id=\"text_20\">\n     <!-- val_acc -->\n     <g transform=\"translate(82.716875 230.223938)scale(0.1 -0.1)\">\n      <use xlink:href=\"#DejaVuSans-118\"/>\n      <use x=\"59.179688\" xlink:href=\"#DejaVuSans-97\"/>\n      <use x=\"120.458984\" xlink:href=\"#DejaVuSans-108\"/>\n      <use x=\"148.242188\" xlink:href=\"#DejaVuSans-95\"/>\n      <use x=\"198.242188\" xlink:href=\"#DejaVuSans-97\"/>\n      <use x=\"259.521484\" xlink:href=\"#DejaVuSans-99\"/>\n      <use x=\"314.501953\" xlink:href=\"#DejaVuSans-99\"/>\n     </g>\n    </g>\n   </g>\n  </g>\n </g>\n <defs>\n  <clipPath id=\"p5f38295c78\">\n   <rect height=\"217.44\" width=\"334.8\" x=\"45.716875\" y=\"24.14175\"/>\n  </clipPath>\n </defs>\n</svg>\n",
      "text/plain": "<Figure size 432x288 with 1 Axes>"
     },
     "metadata": {},
     "output_type": "display_data"
    }
   ],
   "source": [
    "# construct a plot that plots and saves the training history\n",
    "N = np.arange(0, config.EPOCHS)\n",
    "plt.style.use(\"ggplot\")\n",
    "plt.figure()\n",
    "plt.plot(N, H.history[\"loss\"], label=\"train_loss\")\n",
    "plt.plot(N, H.history[\"val_loss\"], label=\"val_loss\")\n",
    "plt.plot(N, H.history[\"accuracy\"], label=\"train_acc\")\n",
    "plt.plot(N, H.history[\"val_accuracy\"], label=\"val_acc\")\n",
    "plt.title(\"Training Loss and Accuracy\")\n",
    "plt.xlabel(\"Epoch #\")\n",
    "plt.ylabel(\"Loss/Accuracy\")\n",
    "plt.legend(loc=\"lower left\")\n",
    "plt.savefig(config.TRAINING_PLOT_PATH)"
   ]
  },
  {
   "cell_type": "code",
   "execution_count": null,
   "metadata": {},
   "outputs": [],
   "source": []
  },
  {
   "cell_type": "markdown",
   "metadata": {},
   "outputs": [],
   "source": [
    "### Save the Model"
   ]
  },
  {
   "cell_type": "code",
   "execution_count": 32,
   "metadata": {},
   "outputs": [
    {
     "name": "stdout",
     "output_type": "stream",
     "text": "[INFO] saving serialized network to models/fifa_screenshot_classifier.h5\n"
    }
   ],
   "source": [
    "print(f\"[INFO] saving serialized network to {config.MODEL_PATH}\")\n",
    "model.save(str(config.MODEL_PATH))"
   ]
  },
  {
   "cell_type": "code",
   "execution_count": 0,
   "metadata": {},
   "outputs": [],
   "source": [
    "test_path = os.path.sep.join([\"data\", \"fifa_screenshot_classifier\", \"unsorted\"])\n",
    "\n",
    "test_batches = tf.keras.preprocessing.image.ImageDataGenerator().flow_from_directory(test_path, target_size=(224,224), batch_size=32)\n",
    "\n",
    "# test_batches = tf.keras.preprocessing.image.ImageDataGenerator().flow_from_directory(test_path, target_size=(224,224), classes=['beer', 'wings'], batch_size=32)"
   ]
  },
  {
   "cell_type": "code",
   "execution_count": null,
   "metadata": {},
   "outputs": [],
   "source": [
    "test_imgs, test_labels = next(test_batches)\n",
    "predictions = model.predict(test_imgs)"
   ]
  },
  {
   "cell_type": "code",
   "execution_count": null,
   "metadata": {},
   "outputs": [],
   "source": []
  },
  {
   "cell_type": "code",
   "execution_count": null,
   "metadata": {},
   "outputs": [],
   "source": []
  },
  {
   "cell_type": "code",
   "execution_count": 33,
   "metadata": {},
   "outputs": [],
   "source": [
    "# define the path to the output directory that will store our final\n",
    "# output with labels/annotations along with the number of images to\n",
    "# sample\n",
    "OUTPUT_IMAGE_PATH = os.path.sep.join([\"output\", \"examples\"])\n",
    "SAMPLE_SIZE = 50"
   ]
  },
  {
   "cell_type": "code",
   "execution_count": null,
   "metadata": {},
   "outputs": [],
   "source": []
  }
 ],
 "metadata": {
  "colab": {
   "collapsed_sections": [],
   "name": "images.ipynb",
   "private_outputs": true,
   "provenance": [],
   "toc_visible": true
  },
  "kernelspec": {
   "display_name": "Python 3",
   "language": "python",
   "name": "python3"
  },
  "language_info": {
   "codemirror_mode": {
    "name": "ipython",
    "version": 3
   },
   "file_extension": ".py",
   "mimetype": "text/x-python",
   "name": "python",
   "nbconvert_exporter": "python",
   "pygments_lexer": "ipython3",
   "version": "3.7.4"
  }
 },
 "nbformat": 4,
 "nbformat_minor": 0
}